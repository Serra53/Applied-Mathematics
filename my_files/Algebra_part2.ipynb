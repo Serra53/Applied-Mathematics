{
 "cells": [
  {
   "cell_type": "code",
   "execution_count": 64,
   "metadata": {},
   "outputs": [],
   "source": [
    "import matplotlib.pyplot as plt\n",
    "from matplotlib.patches import Polygon\n",
    "import numpy as np\n",
    "import sympy as sym\n",
    "import scipy as sp\n",
    "from IPython.display import display, Math\n",
    "import sympy.plotting.plot as symplot\n",
    "from functools import reduce\n",
    "import math\n",
    "import random"
   ]
  },
  {
   "cell_type": "markdown",
   "metadata": {},
   "source": [
    "### Summation and products"
   ]
  },
  {
   "cell_type": "code",
   "execution_count": 3,
   "metadata": {},
   "outputs": [
    {
     "data": {
      "text/plain": [
       "15"
      ]
     },
     "execution_count": 3,
     "metadata": {},
     "output_type": "execute_result"
    }
   ],
   "source": [
    "lst = [1,3,4,1,6]\n",
    "sum(lst)"
   ]
  },
  {
   "cell_type": "code",
   "execution_count": 4,
   "metadata": {},
   "outputs": [
    {
     "data": {
      "text/plain": [
       "15"
      ]
     },
     "execution_count": 4,
     "metadata": {},
     "output_type": "execute_result"
    }
   ],
   "source": [
    "np.sum(lst)"
   ]
  },
  {
   "cell_type": "code",
   "execution_count": 5,
   "metadata": {},
   "outputs": [
    {
     "data": {
      "text/plain": [
       "72"
      ]
     },
     "execution_count": 5,
     "metadata": {},
     "output_type": "execute_result"
    }
   ],
   "source": [
    "np.prod(lst)"
   ]
  },
  {
   "cell_type": "code",
   "execution_count": 6,
   "metadata": {},
   "outputs": [
    {
     "data": {
      "text/plain": [
       "72"
      ]
     },
     "execution_count": 6,
     "metadata": {},
     "output_type": "execute_result"
    }
   ],
   "source": [
    "#using reduce\n",
    "reduce(lambda x1,x2: x1*x2, lst)"
   ]
  },
  {
   "cell_type": "markdown",
   "metadata": {},
   "source": [
    "Accumulative Sum"
   ]
  },
  {
   "cell_type": "code",
   "execution_count": 7,
   "metadata": {},
   "outputs": [
    {
     "data": {
      "text/plain": [
       "array([ 1,  4,  8,  9, 15])"
      ]
     },
     "execution_count": 7,
     "metadata": {},
     "output_type": "execute_result"
    }
   ],
   "source": [
    "np.cumsum(lst)"
   ]
  },
  {
   "cell_type": "code",
   "execution_count": 8,
   "metadata": {},
   "outputs": [
    {
     "data": {
      "image/png": "[encoded data removed]",
      "text/plain": [
       "<Figure size 432x288 with 1 Axes>"
      ]
     },
     "metadata": {
      "needs_background": "light"
     },
     "output_type": "display_data"
    }
   ],
   "source": [
    "\n",
    "\n",
    "plt.plot(lst, \"rs-\")\n",
    "plt.plot(np.cumsum(lst), \"bo-\")\n",
    "\n",
    "plt.show()"
   ]
  },
  {
   "cell_type": "markdown",
   "metadata": {},
   "source": [
    "### Exercises"
   ]
  },
  {
   "cell_type": "code",
   "execution_count": 9,
   "metadata": {},
   "outputs": [
    {
     "data": {
      "text/latex": [
       "$\\displaystyle \\frac{\\sum_{}{} a}{\\sum_{}{} a^2} = \\frac{1}{\\sum_{}{} a}$"
      ],
      "text/plain": [
       "<IPython.core.display.Math object>"
      ]
     },
     "metadata": {},
     "output_type": "display_data"
    },
    {
     "data": {
      "text/plain": [
       "False"
      ]
     },
     "execution_count": 9,
     "metadata": {},
     "output_type": "execute_result"
    }
   ],
   "source": [
    "#summation\n",
    "a = np.arange(1,6)\n",
    "suma = np.sum(a)\n",
    "sumb = np.sum(a**2)\n",
    "\n",
    "display(Math(\"$$\\\\frac{\\sum_{}{} a}{\\sum_{}{} a^2} = \" \\\n",
    "             \"\\\\frac{1}{\\sum_{}{} a}$$\"))\n",
    "suma/sumb == 1/suma"
   ]
  },
  {
   "cell_type": "code",
   "execution_count": 10,
   "metadata": {},
   "outputs": [
    {
     "data": {
      "text/latex": [
       "$\\displaystyle \\frac{\\prod_{}{} a}{\\prod_{}{} a^2} = \\frac{1}{\\prod_{}{} a}$"
      ],
      "text/plain": [
       "<IPython.core.display.Math object>"
      ]
     },
     "metadata": {},
     "output_type": "display_data"
    },
    {
     "data": {
      "text/plain": [
       "True"
      ]
     },
     "execution_count": 10,
     "metadata": {},
     "output_type": "execute_result"
    }
   ],
   "source": [
    "#product\n",
    "prod1 = np.prod(a)\n",
    "prod2 = np.prod(a**2)\n",
    "\n",
    "display(Math(\"$$\\\\frac{\\prod_{}{} a}{\\prod_{}{} a^2} = \" \\\n",
    "             \"\\\\frac{1}{\\prod_{}{} a}$$\"))\n",
    "prod1/prod2 == 1/prod1"
   ]
  },
  {
   "cell_type": "markdown",
   "metadata": {},
   "source": [
    "### Differences\n",
    "Discrete difference operator"
   ]
  },
  {
   "cell_type": "code",
   "execution_count": 11,
   "metadata": {},
   "outputs": [
    {
     "data": {
      "text/plain": [
       "1"
      ]
     },
     "execution_count": 11,
     "metadata": {},
     "output_type": "execute_result"
    }
   ],
   "source": [
    "x = [1,2,4]\n",
    "x[1] - x[0]"
   ]
  },
  {
   "cell_type": "code",
   "execution_count": 13,
   "metadata": {},
   "outputs": [
    {
     "data": {
      "text/plain": [
       "array([  2,   1,   6, -14])"
      ]
     },
     "execution_count": 13,
     "metadata": {},
     "output_type": "execute_result"
    }
   ],
   "source": [
    "x = np.array([1,3,4,10,-4])\n",
    "np.diff(x)"
   ]
  },
  {
   "cell_type": "code",
   "execution_count": 14,
   "metadata": {},
   "outputs": [
    {
     "data": {
      "text/plain": [
       "array([1, 1, 1, 1, 1, 1, 1, 1, 1])"
      ]
     },
     "execution_count": 14,
     "metadata": {},
     "output_type": "execute_result"
    }
   ],
   "source": [
    "v=np.arange(0,10)\n",
    "np.diff(v)"
   ]
  },
  {
   "cell_type": "code",
   "execution_count": 20,
   "metadata": {},
   "outputs": [
    {
     "data": {
      "text/plain": [
       "array([ -1,   5, -20])"
      ]
     },
     "execution_count": 20,
     "metadata": {},
     "output_type": "execute_result"
    }
   ],
   "source": [
    "#differences of differences\n",
    "np.diff(x, 2)"
   ]
  },
  {
   "cell_type": "code",
   "execution_count": 38,
   "metadata": {},
   "outputs": [
    {
     "data": {
      "image/png": "[encoded data removed]",
      "text/plain": [
       "<Figure size 432x288 with 1 Axes>"
      ]
     },
     "metadata": {
      "needs_background": "light"
     },
     "output_type": "display_data"
    }
   ],
   "source": [
    "x = np.linspace(-2,2,101)\n",
    "f = x ** 2\n",
    "df = np.diff(f)\n",
    "plt.plot(x,f, label='f')\n",
    "plt.plot(x[0:-1], df, label='df')\n",
    "plt.grid()\n",
    "plt.axis([-2,2,-1,2])\n",
    "plt.legend()\n",
    "plt.show()"
   ]
  },
  {
   "cell_type": "code",
   "execution_count": 35,
   "metadata": {},
   "outputs": [
    {
     "data": {
      "text/plain": [
       "[<matplotlib.lines.Line2D at 0x7f2f55ad39e8>]"
      ]
     },
     "execution_count": 35,
     "metadata": {},
     "output_type": "execute_result"
    },
    {
     "data": {
      "image/png": "[encoded data removed]",
      "text/plain": [
       "<Figure size 432x288 with 1 Axes>"
      ]
     },
     "metadata": {
      "needs_background": "light"
     },
     "output_type": "display_data"
    }
   ],
   "source": [
    "plt.plot(x[:-1], df)\n"
   ]
  },
  {
   "cell_type": "markdown",
   "metadata": {},
   "source": [
    "### Roots of Polynomials\n",
    "Solve the polynomial for x"
   ]
  },
  {
   "cell_type": "code",
   "execution_count": 40,
   "metadata": {},
   "outputs": [],
   "source": [
    "## the polynomial\n",
    "# 3X² + 2x + 1"
   ]
  },
  {
   "cell_type": "code",
   "execution_count": 43,
   "metadata": {},
   "outputs": [
    {
     "name": "stdout",
     "output_type": "stream",
     "text": [
      "[-1.          0.33333333]\n"
     ]
    }
   ],
   "source": [
    "#define the coefficients\n",
    "#be aware of the order\n",
    "coeffs = [3,2,-1]\n",
    "roots = np.roots(coeffs)\n",
    "print(roots)"
   ]
  },
  {
   "cell_type": "code",
   "execution_count": 47,
   "metadata": {},
   "outputs": [
    {
     "data": {
      "text/latex": [
       "$\\displaystyle \\text{At }x=-1, \\quad 3 x^{2} + 2 x - 1 = 0$"
      ],
      "text/plain": [
       "<IPython.core.display.Math object>"
      ]
     },
     "metadata": {},
     "output_type": "display_data"
    },
    {
     "data": {
      "text/latex": [
       "$\\displaystyle \\text{At }x=0.333333, \\quad 3 x^{2} + 2 x - 1 = -5.55112e-17$"
      ],
      "text/plain": [
       "<IPython.core.display.Math object>"
      ]
     },
     "metadata": {},
     "output_type": "display_data"
    }
   ],
   "source": [
    "x = sym.symbols(\"x\")\n",
    "pn = 3*x**2 + 2*x -1\n",
    "for i in roots:\n",
    "    display(Math(\"\\\\text{At }x=%g, \\\\quad %s = %g\" % (i, sym.latex(pn), pn.subs(x,i))))"
   ]
  },
  {
   "cell_type": "markdown",
   "metadata": {},
   "source": [
    "−5.55112𝑒−17 this is praticaly 0."
   ]
  },
  {
   "cell_type": "code",
   "execution_count": 48,
   "metadata": {},
   "outputs": [],
   "source": [
    "#generate a degreeN polynomial and count the number of roots"
   ]
  },
  {
   "cell_type": "code",
   "execution_count": 60,
   "metadata": {},
   "outputs": [
    {
     "name": "stdout",
     "output_type": "stream",
     "text": [
      "A degree-0 polynomial has 0 roots\n",
      "A degree-1 polynomial has 1 roots\n",
      "A degree-2 polynomial has 2 roots\n",
      "A degree-3 polynomial has 3 roots\n",
      "A degree-4 polynomial has 4 roots\n",
      "A degree-5 polynomial has 5 roots\n",
      "A degree-6 polynomial has 6 roots\n",
      "A degree-7 polynomial has 7 roots\n",
      "A degree-8 polynomial has 8 roots\n",
      "A degree-9 polynomial has 9 roots\n"
     ]
    }
   ],
   "source": [
    "for i in range(1,11):\n",
    "    coeffs = np.arange(1,i+1)\n",
    "    print(\"A degree-%s polynomial has %s roots\" %(len(coeffs)-1, \n",
    "                                                   len(np.roots(coeffs))))"
   ]
  },
  {
   "cell_type": "markdown",
   "metadata": {},
   "source": [
    "### The quadratic equation"
   ]
  },
  {
   "cell_type": "code",
   "execution_count": 70,
   "metadata": {},
   "outputs": [
    {
     "name": "stdout",
     "output_type": "stream",
     "text": [
      "(-0.875+0.6959705453537527j) (-0.875-0.6959705453537527j)\n"
     ]
    }
   ],
   "source": [
    "a = 4\n",
    "b = 7\n",
    "c = 5\n",
    "\n",
    "quadA1 = (-b + sp.sqrt(b**2 - 4*a*c)) / (2*a)\n",
    "quadA2 = (-b - sp.sqrt(b**2 - 4*a*c)) / (2*a)\n",
    "\n",
    "print(quadA1, quadA2)"
   ]
  },
  {
   "cell_type": "code",
   "execution_count": 72,
   "metadata": {},
   "outputs": [],
   "source": [
    "def return_quadeq(a,b,c):\n",
    "    \n",
    "    out = sp.zeros(2)\n",
    "    \n",
    "    out[0] = (-b + sp.sqrt(b**2 - 4*a*c)) / (2*a)\n",
    "    out[1] = (-b - sp.sqrt(b**2 - 4*a*c)) / (2*a)\n",
    "    return out\n",
    "    "
   ]
  },
  {
   "cell_type": "code",
   "execution_count": 74,
   "metadata": {},
   "outputs": [
    {
     "data": {
      "text/plain": [
       "array([-1. , -2.5])"
      ]
     },
     "execution_count": 74,
     "metadata": {},
     "output_type": "execute_result"
    }
   ],
   "source": [
    "return_quadeq(2,7,5)"
   ]
  },
  {
   "cell_type": "code",
   "execution_count": 100,
   "metadata": {},
   "outputs": [
    {
     "name": "stderr",
     "output_type": "stream",
     "text": [
      "/home/serra/.local/lib/python3.6/site-packages/ipykernel_launcher.py:5: ComplexWarning: Casting complex values to real discards the imaginary part\n",
      "  \"\"\"\n",
      "/home/serra/.local/lib/python3.6/site-packages/ipykernel_launcher.py:6: ComplexWarning: Casting complex values to real discards the imaginary part\n",
      "  \n",
      "No handles with labels found to put in legend.\n"
     ]
    },
    {
     "data": {
      "image/png": "[encoded data removed]",
      "text/plain": [
       "<Figure size 432x288 with 2 Axes>"
      ]
     },
     "metadata": {
      "needs_background": "light"
     },
     "output_type": "display_data"
    }
   ],
   "source": [
    "a = 1\n",
    "b = np.arange(-5,6)\n",
    "c = np.arange(-2,11)\n",
    "\n",
    "M = np.zeros([len(b), len(c)])\n",
    "\n",
    "for i in range(0, len(b)):\n",
    "    for j in range(0, len(c)):\n",
    "        ans = return_quadeq(a,b[i], c[j])\n",
    "        M[i,j] = ans[0]\n",
    "\n",
    "plt.imshow(M, extent=[ c[0], c[-1], b[0], b[-1] ])\n",
    "plt.xlabel(\"c\")\n",
    "plt.ylabel(\"b\")\n",
    "plt.title(f\"a={str(a)}\")\n",
    "plt.legend()\n",
    "plt.colorbar()\n",
    "plt.show()"
   ]
  },
  {
   "cell_type": "markdown",
   "metadata": {},
   "source": [
    "### Complex Numbers"
   ]
  },
  {
   "cell_type": "code",
   "execution_count": 104,
   "metadata": {},
   "outputs": [
    {
     "name": "stdout",
     "output_type": "stream",
     "text": [
      "1j\n",
      "1j\n",
      "1j\n"
     ]
    }
   ],
   "source": [
    "print(1j)\n",
    "print(sp.sqrt(-1))\n",
    "print(np.sqrt(-1, dtype=\"complex\"))"
   ]
  },
  {
   "cell_type": "code",
   "execution_count": 107,
   "metadata": {},
   "outputs": [
    {
     "name": "stdout",
     "output_type": "stream",
     "text": [
      "(4-5j)\n",
      "(4-5j)\n"
     ]
    }
   ],
   "source": [
    "real_part = 4\n",
    "img_part = -5\n",
    "\n",
    "cn1 = np.complex(real_part, img_part)\n",
    "cn2 = real_part + 1j*img_part\n",
    "\n",
    "print(cn1)\n",
    "print(cn2)"
   ]
  },
  {
   "cell_type": "code",
   "execution_count": 108,
   "metadata": {},
   "outputs": [
    {
     "data": {
      "text/plain": [
       "(6+8j)"
      ]
     },
     "execution_count": 108,
     "metadata": {},
     "output_type": "execute_result"
    }
   ],
   "source": [
    "z1 = np.complex(4,5)\n",
    "z2 = np.complex(2,3)\n",
    "\n",
    "z1+z2"
   ]
  },
  {
   "cell_type": "code",
   "execution_count": null,
   "metadata": {},
   "outputs": [],
   "source": [
    "z1."
   ]
  },
  {
   "cell_type": "code",
   "execution_count": 111,
   "metadata": {},
   "outputs": [
    {
     "data": {
      "text/plain": [
       "True"
      ]
     },
     "execution_count": 111,
     "metadata": {},
     "output_type": "execute_result"
    }
   ],
   "source": [
    "w = np.complex(2,4)\n",
    "z = np.complex(5,6)\n",
    "\n",
    "w + z == np.complex(w.real + z.real, w.imag+z.imag)"
   ]
  },
  {
   "cell_type": "code",
   "execution_count": 114,
   "metadata": {},
   "outputs": [
    {
     "data": {
      "text/latex": [
       "$\\displaystyle -14.0 + 32.0 i$"
      ],
      "text/plain": [
       "-14.0 + 32.0*I"
      ]
     },
     "execution_count": 114,
     "metadata": {},
     "output_type": "execute_result"
    }
   ],
   "source": [
    "sym.sympify(w*z)"
   ]
  },
  {
   "cell_type": "code",
   "execution_count": 116,
   "metadata": {},
   "outputs": [
    {
     "data": {
      "text/latex": [
       "$\\displaystyle a - i b$"
      ],
      "text/plain": [
       "a - I*b"
      ]
     },
     "execution_count": 116,
     "metadata": {},
     "output_type": "execute_result"
    }
   ],
   "source": [
    "a,b = sym.symbols(\"a,b\", real=True)\n",
    "z = a + b*sym.I\n",
    "sym.conjugate(z)"
   ]
  },
  {
   "cell_type": "code",
   "execution_count": 120,
   "metadata": {},
   "outputs": [
    {
     "data": {
      "text/latex": [
       "$\\displaystyle z\\times z^* = a^{2} + b^{2}$"
      ],
      "text/plain": [
       "<IPython.core.display.Math object>"
      ]
     },
     "execution_count": 120,
     "metadata": {},
     "output_type": "execute_result"
    }
   ],
   "source": [
    "Math(\"z\\\\times z^* = %s\" % sym.latex(sym.expand(z * sym.conjugate(z))))"
   ]
  },
  {
   "cell_type": "markdown",
   "metadata": {},
   "source": [
    "### Division of Complex Numbers"
   ]
  },
  {
   "cell_type": "code",
   "execution_count": 135,
   "metadata": {},
   "outputs": [
    {
     "data": {
      "text/latex": [
       "$\\displaystyle \\frac{(4+2j)}{(2-3j)} = (0.1-0.8j)$"
      ],
      "text/plain": [
       "<IPython.core.display.Math object>"
      ]
     },
     "metadata": {},
     "output_type": "display_data"
    },
    {
     "data": {
      "text/latex": [
       "$\\displaystyle \\frac{(4+2j)}{(2-3j)} = \\frac{(4+2j)\\times (2+3j)}{(2-3j)\\times (2+3j)} = (0.1-0.8j)$"
      ],
      "text/plain": [
       "<IPython.core.display.Math object>"
      ]
     },
     "metadata": {},
     "output_type": "display_data"
    }
   ],
   "source": [
    "z = np.complex(4, 2)\n",
    "w = np.complex(2, -3)\n",
    "\n",
    "display(Math(\"\\\\frac{%s}{%s} = %s\" %(z, w, w/z)))\n",
    "display(Math(\"\\\\frac{%s}{%s} = \" \\\n",
    "             \"\\\\frac{%s\\\\times %s}{%s\\\\times %s} = \" \\\n",
    "             \"%s\" \\\n",
    "             %(z, w,z,np.conj(w),w, np.conj(w), \n",
    "               w/z)))"
   ]
  },
  {
   "cell_type": "code",
   "execution_count": 145,
   "metadata": {},
   "outputs": [
    {
     "name": "stdout",
     "output_type": "stream",
     "text": [
      "(1.0000000000000002+8.326672684688674e-17j)\n"
     ]
    }
   ],
   "source": [
    "z = np.complex(8,2)\n",
    "w = np.complex(2,3)\n",
    "\n",
    "eq = (((z - 1)*(z*w + w))/(w*z - w)) * \\\n",
    "     ((w-1)*(1-w)/(-z*w**2 - w**2 + 2*w*z + 2*w -z -1))\n",
    "\n",
    "print(eq)"
   ]
  },
  {
   "cell_type": "markdown",
   "metadata": {},
   "source": [
    "### Graphing complex numbers"
   ]
  },
  {
   "cell_type": "code",
   "execution_count": 154,
   "metadata": {},
   "outputs": [
    {
     "data": {
      "image/png": "[encoded data removed]",
      "text/plain": [
       "<Figure size 432x288 with 1 Axes>"
      ]
     },
     "metadata": {
      "needs_background": "light"
     },
     "output_type": "display_data"
    }
   ],
   "source": [
    "z = np.complex(2, 3)\n",
    "plt.plot(z.real, z.imag, \"ro\")\n",
    "plt.plot([0, z.real], [0,z.imag], \"r--\")\n",
    "\n",
    "plt.xlabel(\"real\")\n",
    "plt.ylabel(\"imag\")\n",
    "plt.axhline(0, color=\"k\")\n",
    "plt.axvline(0, color=\"k\")\n",
    "plt.grid()\n",
    "plt.axis([-4,4,-4,4])\n",
    "plt.show()\n"
   ]
  },
  {
   "cell_type": "code",
   "execution_count": 161,
   "metadata": {},
   "outputs": [
    {
     "data": {
      "image/png": "[encoded data removed]",
      "text/plain": [
       "<Figure size 432x288 with 1 Axes>"
      ]
     },
     "metadata": {
      "needs_background": "light"
     },
     "output_type": "display_data"
    }
   ],
   "source": [
    "\n",
    "w = np.complex(-3, 1)\n",
    "z = np.complex(-1, 1)\n",
    "rs = w + z\n",
    "\n",
    "plt.plot([0, w.real], [0,w.imag], \"b\", label=\"z1\")\n",
    "plt.plot([0, z.real], [0,z.imag], \"orange\", label=\"z2\")\n",
    "plt.plot([0, rs.real], [0 ,rs.imag], \"g\", label=\"z1+z2\")\n",
    "\n",
    "plt.axhline(0, color=\"k\")\n",
    "plt.axvline(0, color=\"k\")\n",
    "plt.legend()\n",
    "plt.grid()\n",
    "plt.axis([-6,6,-6,6])\n",
    "plt.show()\n"
   ]
  },
  {
   "cell_type": "code",
   "execution_count": 162,
   "metadata": {},
   "outputs": [
    {
     "data": {
      "image/png": "[encoded data removed]",
      "text/plain": [
       "<Figure size 432x288 with 1 Axes>"
      ]
     },
     "metadata": {
      "needs_background": "light"
     },
     "output_type": "display_data"
    }
   ],
   "source": [
    "\n",
    "w = np.complex(-3, 1)\n",
    "z = np.complex(-1, 1)\n",
    "rs = w * z\n",
    "\n",
    "plt.plot([0, w.real], [0,w.imag], \"b\", label=\"z1\")\n",
    "plt.plot([0, z.real], [0,z.imag], \"orange\", label=\"z2\")\n",
    "plt.plot([0, rs.real], [0 ,rs.imag], \"g\", label=\"z1*z2\")\n",
    "\n",
    "plt.axhline(0, color=\"k\")\n",
    "plt.axvline(0, color=\"k\")\n",
    "plt.legend()\n",
    "plt.grid()\n",
    "plt.axis([-6,6,-6,6])\n",
    "plt.show()"
   ]
  },
  {
   "cell_type": "markdown",
   "metadata": {},
   "source": [
    "### Revisiting quadratic equations"
   ]
  },
  {
   "cell_type": "code",
   "execution_count": 181,
   "metadata": {},
   "outputs": [
    {
     "data": {
      "image/png": "[encoded data removed]",
      "text/plain": [
       "<Figure size 1008x504 with 3 Axes>"
      ]
     },
     "metadata": {
      "needs_background": "light"
     },
     "output_type": "display_data"
    }
   ],
   "source": [
    "def return_quadeq(a,b,c):\n",
    "    \n",
    "    out = sp.zeros(2, dtype=complex)\n",
    "    \n",
    "    out[0] = (-b + sp.sqrt(b**2 - 4*a*c)) / (2*a)\n",
    "    out[1] = (-b - sp.sqrt(b**2 - 4*a*c)) / (2*a)\n",
    "    return out\n",
    "    \n",
    "\n",
    "a = 1\n",
    "b = np.arange(-5,6)\n",
    "c = np.arange(-2,11)\n",
    "\n",
    "M = np.zeros([len(b), len(c)], dtype=\"complex\")\n",
    "\n",
    "for i in range(0, len(b)):\n",
    "    for j in range(0, len(c)):\n",
    "        ans = return_quadeq(a, b[i], c[j])\n",
    "        M[i,j] = ans[1]\n",
    "\n",
    "plt.figure(figsize=(14,7))\n",
    "plt.subplot(1,3,1)\n",
    "plt.imshow(np.real(M), extent=[ c[0], c[-1], b[0], b[-1] ])\n",
    "plt.axis(\"off\")\n",
    "plt.title(\"Real Part\")\n",
    "\n",
    "\n",
    "plt.subplot(1,3,2)\n",
    "plt.imshow(np.imag(M), extent=[ c[0], c[-1], b[0], b[-1] ])\n",
    "plt.axis(\"off\")\n",
    "plt.title(\"Imaginary Part\")\n",
    "\n",
    "plt.subplot(1,3,3)\n",
    "plt.imshow(np.absolute(M), extent=[ c[0], c[-1], b[0], b[-1] ])\n",
    "plt.axis(\"off\")\n",
    "plt.title(\"Magnitude\")\n",
    "\n",
    "plt.show()"
   ]
  },
  {
   "cell_type": "code",
   "execution_count": null,
   "metadata": {},
   "outputs": [],
   "source": []
  }
 ],
 "metadata": {
  "kernelspec": {
   "display_name": "Python 3",
   "language": "python",
   "name": "python3"
  },
  "language_info": {
   "codemirror_mode": {
    "name": "ipython",
    "version": 3
   },
   "file_extension": ".py",
   "mimetype": "text/x-python",
   "name": "python",
   "nbconvert_exporter": "python",
   "pygments_lexer": "ipython3",
   "version": "3.6.9"
  }
 },
 "nbformat": 4,
 "nbformat_minor": 2
}

{
 "cells": [
  {
   "cell_type": "code",
   "execution_count": 4,
   "metadata": {},
   "outputs": [],
   "source": [
    "import sympy as sym\n",
    "import numpy as np\n",
    "sym.init_printing()\n",
    "from IPython.display import display, Math"
   ]
  },
  {
   "cell_type": "code",
   "execution_count": 2,
   "metadata": {},
   "outputs": [],
   "source": [
    "x,y,z = sym.symbols(\"x,y,z\")"
   ]
  },
  {
   "cell_type": "code",
   "execution_count": 7,
   "metadata": {},
   "outputs": [],
   "source": [
    "ex = x**y * x**z"
   ]
  },
  {
   "cell_type": "code",
   "execution_count": 9,
   "metadata": {},
   "outputs": [
    {
     "data": {
      "image/png": "[encoded data removed]",
      "text/latex": [
       "$\\displaystyle x^{y} x^{z}$"
      ],
      "text/plain": [
       " y  z\n",
       "x ⋅x "
      ]
     },
     "metadata": {},
     "output_type": "display_data"
    }
   ],
   "source": [
    "display(ex)"
   ]
  },
  {
   "cell_type": "code",
   "execution_count": 11,
   "metadata": {},
   "outputs": [
    {
     "data": {
      "image/png": "[encoded data removed]",
      "text/latex": [
       "$\\displaystyle x^{y + z}$"
      ],
      "text/plain": [
       " y + z\n",
       "x     "
      ]
     },
     "metadata": {},
     "output_type": "display_data"
    }
   ],
   "source": [
    "display(sym.simplify(ex))"
   ]
  },
  {
   "cell_type": "code",
   "execution_count": 13,
   "metadata": {},
   "outputs": [
    {
     "data": {
      "image/png": "[encoded data removed]",
      "text/latex": [
       "$\\displaystyle x^{y + z}$"
      ],
      "text/plain": [
       " y + z\n",
       "x     "
      ]
     },
     "metadata": {},
     "output_type": "display_data"
    },
    {
     "data": {
      "image/png": "[encoded data removed]",
      "text/latex": [
       "$\\displaystyle x^{y - z}$"
      ],
      "text/plain": [
       " y - z\n",
       "x     "
      ]
     },
     "metadata": {},
     "output_type": "display_data"
    },
    {
     "data": {
      "image/png": "[encoded data removed]",
      "text/latex": [
       "$\\displaystyle x^{y} y^{z}$"
      ],
      "text/plain": [
       " y  z\n",
       "x ⋅y "
      ]
     },
     "metadata": {},
     "output_type": "display_data"
    }
   ],
   "source": [
    "ex1= x**y * x**z\n",
    "ex2= x**y / x**z\n",
    "ex3= x**y * y**z\n",
    "\n",
    "\n",
    "display(sym.simplify(ex1))\n",
    "display(sym.simplify(ex2))\n",
    "display(sym.simplify(ex3))"
   ]
  },
  {
   "cell_type": "code",
   "execution_count": 14,
   "metadata": {},
   "outputs": [
    {
     "data": {
      "text/latex": [
       "$\\displaystyle \\text{True}$"
      ],
      "text/plain": [
       "True"
      ]
     },
     "execution_count": 14,
     "metadata": {},
     "output_type": "execute_result"
    }
   ],
   "source": [
    "sym.Eq(4, 2+2)"
   ]
  },
  {
   "cell_type": "code",
   "execution_count": 15,
   "metadata": {},
   "outputs": [
    {
     "data": {
      "image/png": "[encoded data removed]",
      "text/latex": [
       "$\\displaystyle x^{y} x^{z} = x^{y + z}$"
      ],
      "text/plain": [
       " y  z    y + z\n",
       "x ⋅x  = x     "
      ]
     },
     "execution_count": 15,
     "metadata": {},
     "output_type": "execute_result"
    }
   ],
   "source": [
    "sym.Eq(ex1, sym.simplify(ex1))\n",
    "#python cannot determine truthtiness for this equation as it is"
   ]
  },
  {
   "cell_type": "code",
   "execution_count": 17,
   "metadata": {},
   "outputs": [
    {
     "data": {
      "text/latex": [
       "$\\displaystyle \\text{True}$"
      ],
      "text/plain": [
       "True"
      ]
     },
     "execution_count": 17,
     "metadata": {},
     "output_type": "execute_result"
    }
   ],
   "source": [
    "sym.Eq(sym.expand(ex1-sym.simplify(ex1)) )"
   ]
  },
  {
   "cell_type": "code",
   "execution_count": 18,
   "metadata": {},
   "outputs": [
    {
     "data": {
      "image/png": "[encoded data removed]",
      "text/latex": [
       "$\\displaystyle x^{y + z}$"
      ],
      "text/plain": [
       " y + z\n",
       "x     "
      ]
     },
     "metadata": {},
     "output_type": "display_data"
    }
   ],
   "source": [
    "display( sym.powsimp(ex1))"
   ]
  },
  {
   "cell_type": "code",
   "execution_count": 11,
   "metadata": {},
   "outputs": [
    {
     "name": "stdout",
     "output_type": "stream",
     "text": [
      "x*(4*x + 5)\n"
     ]
    }
   ],
   "source": [
    "x = sym.symbols('x')\n",
    "\n",
    "term1 = (4*x +5)\n",
    "term2 = x\n",
    "\n",
    "print(term1 * term2)"
   ]
  },
  {
   "cell_type": "code",
   "execution_count": 13,
   "metadata": {},
   "outputs": [
    {
     "name": "stdout",
     "output_type": "stream",
     "text": [
      "x*(4*x + 5)\n",
      "4*x**2 + 5*x\n"
     ]
    }
   ],
   "source": [
    "from sympy.abc import x\n",
    "\n",
    "term1 = (4*x +5)\n",
    "term2 = x\n",
    "\n",
    "print(term1 * term2)\n",
    "print(sym.expand(term1 * term2))"
   ]
  },
  {
   "cell_type": "code",
   "execution_count": 18,
   "metadata": {},
   "outputs": [
    {
     "data": {
      "text/latex": [
       "$\\displaystyle x \\left(4 x + 5\\right)$"
      ],
      "text/plain": [
       "<IPython.core.display.Math object>"
      ]
     },
     "metadata": {},
     "output_type": "display_data"
    }
   ],
   "source": [
    "display(Math(sym.latex((term1 * term2))))"
   ]
  },
  {
   "cell_type": "code",
   "execution_count": 19,
   "metadata": {},
   "outputs": [],
   "source": [
    "term3 = x-7"
   ]
  },
  {
   "cell_type": "code",
   "execution_count": 20,
   "metadata": {},
   "outputs": [
    {
     "data": {
      "text/latex": [
       "$\\displaystyle \\left(x - 7\\right) \\left(4 x + 5\\right)$"
      ],
      "text/plain": [
       "<IPython.core.display.Math object>"
      ]
     },
     "metadata": {},
     "output_type": "display_data"
    }
   ],
   "source": [
    "display(Math(sym.latex(term1*term3)))"
   ]
  },
  {
   "cell_type": "code",
   "execution_count": 21,
   "metadata": {},
   "outputs": [
    {
     "data": {
      "text/latex": [
       "$\\displaystyle 4 x^{2} - 23 x - 35$"
      ],
      "text/plain": [
       "<IPython.core.display.Math object>"
      ]
     },
     "metadata": {},
     "output_type": "display_data"
    }
   ],
   "source": [
    " display(Math(sym.latex(sym.expand(term1*term3))))"
   ]
  },
  {
   "cell_type": "code",
   "execution_count": 26,
   "metadata": {},
   "outputs": [
    {
     "data": {
      "text/latex": [
       "$\\displaystyle x \\left(- \\frac{5^{x}}{x} + 2 y^{2}\\right)$"
      ],
      "text/plain": [
       "<IPython.core.display.Math object>"
      ]
     },
     "metadata": {},
     "output_type": "display_data"
    },
    {
     "data": {
      "text/latex": [
       "$\\displaystyle - 5^{x} + 2 x y^{2}$"
      ],
      "text/plain": [
       "<IPython.core.display.Math object>"
      ]
     },
     "metadata": {},
     "output_type": "display_data"
    }
   ],
   "source": [
    "from sympy.abc import y\n",
    "\n",
    "expr = x*(2*y**2 - 5**x/x)\n",
    "display(Math(sym.latex(expr)))\n",
    "display(Math(sym.latex(sym.expand(expr))))"
   ]
  },
  {
   "cell_type": "code",
   "execution_count": 27,
   "metadata": {},
   "outputs": [
    {
     "name": "stdout",
     "output_type": "stream",
     "text": [
      "Variable   Type        Data/Info\n",
      "--------------------------------\n",
      "Math       type        <class 'IPython.core.display.Math'>\n",
      "display    function    <function display at 0x1067acd90>\n",
      "epxr       Mul         x*(-5**x/x + 2*y**2)\n",
      "expr       Mul         x*(-5**x/x + 2*y**2)\n",
      "np         module      <module 'numpy' from '/us<...>kages/numpy/__init__.py'>\n",
      "sym        module      <module 'sympy' from '/us<...>kages/sympy/__init__.py'>\n",
      "term1      Add         4*x + 5\n",
      "term2      Symbol      x\n",
      "term3      Add         x - 7\n",
      "x          Symbol      x\n",
      "y          Symbol      y\n",
      "z          Symbol      z\n"
     ]
    }
   ],
   "source": [
    "%whos"
   ]
  },
  {
   "cell_type": "code",
   "execution_count": 37,
   "metadata": {},
   "outputs": [
    {
     "data": {
      "image/png": "[encoded data removed]",
      "text/latex": [
       "$\\displaystyle \\left(2 - y\\right) \\left(x + 4\\right)$"
      ],
      "text/plain": [
       "(2 - y)⋅(x + 4)"
      ]
     },
     "metadata": {},
     "output_type": "display_data"
    },
    {
     "name": "stdout",
     "output_type": "stream",
     "text": [
      "When x=0 and y=0, f(x,y) = 8\n",
      "When x=0 and y=1, f(x,y) = 4\n",
      "When x=0 and y=2, f(x,y) = 0\n",
      "When x=1 and y=0, f(x,y) = 10\n",
      "When x=1 and y=1, f(x,y) = 5\n",
      "When x=1 and y=2, f(x,y) = 0\n",
      "When x=2 and y=0, f(x,y) = 12\n",
      "When x=2 and y=1, f(x,y) = 6\n",
      "When x=2 and y=2, f(x,y) = 0\n"
     ]
    }
   ],
   "source": [
    "expr = (4+x) * (2-y)\n",
    "display(expr)\n",
    "\n",
    "poss = [0,1,2]\n",
    "\n",
    "for i1 in poss:\n",
    "    for i2 in poss:   \n",
    "        result = expr.subs({x: i1, y: i2})\n",
    "        print(f\"When x={i1} and y={i2}, f(x,y) = {result}\")\n",
    "    "
   ]
  },
  {
   "cell_type": "code",
   "execution_count": null,
   "metadata": {},
   "outputs": [],
   "source": []
  }
 ],
 "metadata": {
  "kernelspec": {
   "display_name": "Python 3",
   "language": "python",
   "name": "python3"
  },
  "language_info": {
   "codemirror_mode": {
    "name": "ipython",
    "version": 3
   },
   "file_extension": ".py",
   "mimetype": "text/x-python",
   "name": "python",
   "nbconvert_exporter": "python",
   "pygments_lexer": "ipython3",
   "version": "3.7.3"
  }
 },
 "nbformat": 4,
 "nbformat_minor": 2
}
